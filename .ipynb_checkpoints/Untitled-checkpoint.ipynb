{
 "cells": [
  {
   "cell_type": "code",
   "execution_count": 4,
   "id": "extensive-reaction",
   "metadata": {},
   "outputs": [],
   "source": [
    "import numpy as np"
   ]
  },
  {
   "cell_type": "code",
   "execution_count": 5,
   "id": "strategic-exhaust",
   "metadata": {},
   "outputs": [],
   "source": [
    "import numba"
   ]
  },
  {
   "cell_type": "code",
   "execution_count": null,
   "id": "anonymous-category",
   "metadata": {},
   "outputs": [],
   "source": []
  },
  {
   "cell_type": "code",
   "execution_count": 6,
   "id": "continent-cooper",
   "metadata": {},
   "outputs": [],
   "source": [
    "def moves(position, board):\n",
    "    legal = []\n",
    "    for i in [x for x in range(-7, 8) if x != 0]:\n",
    "        diag_m = position + 9*i\n",
    "        diag_o = position + 7*i\n",
    "        ver = position + 8*i\n",
    "        hor = position + i\n",
    "        if diag_m in board:\n",
    "            legal.append(diag_m)\n",
    "            \n",
    "        if diag_o in board:\n",
    "            legal.append(diag_o)\n",
    "\n",
    "        if ver in board:\n",
    "            legal.append(ver)\n",
    "\n",
    "        if hor in board[np.where(board == position)[0][0]]:\n",
    "            legal.append(hor)\n",
    "\n",
    "    return legal"
   ]
  },
  {
   "cell_type": "code",
   "execution_count": 7,
   "id": "acoustic-distributor",
   "metadata": {},
   "outputs": [],
   "source": [
    "qq = \"♕\"\n",
    "sq = \"□\"\n",
    "\n",
    "\n",
    "def printboard(board):\n",
    "    for i in range(8):\n",
    "        print(\n",
    "            board[i][0],\n",
    "            board[i][1],\n",
    "            board[i][2],\n",
    "            board[i][3],\n",
    "            board[i][4],\n",
    "            board[i][5],\n",
    "            board[i][6],\n",
    "            board[i][7]\n",
    "        )\n",
    "        \n",
    "rng = np.random.default_rng()"
   ]
  },
  {
   "cell_type": "code",
   "execution_count": 8,
   "id": "organized-repeat",
   "metadata": {},
   "outputs": [],
   "source": [
    "pt1 = np.array([[0,0,0,0,0,0,0,0]])\n",
    "\n",
    "@numba.jit(\"i8[:](i8[:,:])\", nopython=True, nogil=True)\n",
    "def game(pt1):\n",
    "    tr = 0\n",
    "    truce = False\n",
    "    beard = np.arange(64)\n",
    "    \n",
    "    while not(truce):\n",
    "        positions = np.random.choice(beard, 8)\n",
    "        ini = True\n",
    "        for row in pt1:\n",
    "            if (positions==row).all():\n",
    "                ini = False\n",
    "        if ini:\n",
    "            tr += 1\n",
    "            if tr % 10000 == 0:\n",
    "                print(tr)\n",
    "        \n",
    "            legals = []\n",
    "            board = beard.reshape(8,8)\n",
    "            \n",
    "            for position in positions:\n",
    "                legal = []\n",
    "                for i in [x for x in range(-7, 8) if x != 0]:\n",
    "                    diag_m = position + 9*i\n",
    "                    diag_o = position + 7*i\n",
    "                    ver = position + 8*i\n",
    "                    hor = position + i\n",
    "                    row = np.where(board==positions)[0][0]\n",
    "\n",
    "                    if diag_m in board:\n",
    "                        if np.abs(np.where(board==positions)[0][0] - np.where(board==diag_m)[0][0]) == 1:\n",
    "                            legal.append(diag_m)\n",
    "\n",
    "                    if diag_o in board:\n",
    "                        if np.abs(np.where(board==positions)[0][0] - np.where(board==diag_o)[0][0]) == 1:\n",
    "                            legal.append(diag_o)\n",
    "\n",
    "                    if ver in board:\n",
    "                        legal.append(ver)\n",
    "\n",
    "                    if hor in board[np.where(board == position)[0][0]]:\n",
    "                        legal.append(hor)\n",
    "                legals.extend(legal)\n",
    "            \n",
    "            if len(set(positions).intersection(set(legals))) == 0:\n",
    "                truce = True\n",
    "            \n",
    "            pt2 = np.arange((tr+1)*8).reshape(tr+1, 8)\n",
    "            pt2[:tr] = pt1.copy()\n",
    "            pt2[-1] = positions\n",
    "            pt1 = pt2.copy()\n",
    "\n",
    "    return positions"
   ]
  },
  {
   "cell_type": "code",
   "execution_count": 9,
   "id": "toxic-necklace",
   "metadata": {},
   "outputs": [
    {
     "data": {
      "text/plain": [
       "array([[0, 0, 0, 0, 0, 0, 0, 0]])"
      ]
     },
     "execution_count": 9,
     "metadata": {},
     "output_type": "execute_result"
    }
   ],
   "source": [
    "pt1"
   ]
  },
  {
   "cell_type": "code",
   "execution_count": 12,
   "id": "unable-admission",
   "metadata": {},
   "outputs": [],
   "source": [
    "tr = 0\n",
    "pt2 = np.arange((tr+1)*8).reshape(tr+1, 8)"
   ]
  },
  {
   "cell_type": "code",
   "execution_count": 15,
   "id": "radical-classification",
   "metadata": {},
   "outputs": [
    {
     "data": {
      "text/plain": [
       "(array([0]), array([7]))"
      ]
     },
     "execution_count": 15,
     "metadata": {},
     "output_type": "execute_result"
    }
   ],
   "source": [
    "np.where(pt2==7)"
   ]
  },
  {
   "cell_type": "code",
   "execution_count": 21,
   "id": "brutal-highlight",
   "metadata": {},
   "outputs": [
    {
     "data": {
      "text/plain": [
       "array([[0, 0, 0, 0, 0, 0, 0, 0]])"
      ]
     },
     "execution_count": 21,
     "metadata": {},
     "output_type": "execute_result"
    }
   ],
   "source": [
    "pt1"
   ]
  },
  {
   "cell_type": "code",
   "execution_count": null,
   "id": "acceptable-intersection",
   "metadata": {},
   "outputs": [],
   "source": []
  }
 ],
 "metadata": {
  "kernelspec": {
   "display_name": "Python 3",
   "language": "python",
   "name": "python3"
  },
  "language_info": {
   "codemirror_mode": {
    "name": "ipython",
    "version": 3
   },
   "file_extension": ".py",
   "mimetype": "text/x-python",
   "name": "python",
   "nbconvert_exporter": "python",
   "pygments_lexer": "ipython3",
   "version": "3.9.5"
  }
 },
 "nbformat": 4,
 "nbformat_minor": 5
}
